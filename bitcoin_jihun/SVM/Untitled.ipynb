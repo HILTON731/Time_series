{
 "cells": [
  {
   "cell_type": "code",
   "execution_count": 2,
   "metadata": {},
   "outputs": [],
   "source": [
    "import numpy as np\n",
    "import matplotlib.pyplot as plt\n",
    "from sklearn import svm, datasets\n",
    "from sklearn.model_selection import train_test_split\n",
    "from sklearn.preprocessing import StandardScaler\n",
    "from sklearn.datasets import load_iris\n",
    "from sklearn.model_selection import StratifiedShuffleSplit, GridSearchCV\n",
    "from sklearn.svm import SVC"
   ]
  },
  {
   "cell_type": "code",
   "execution_count": 3,
   "metadata": {},
   "outputs": [],
   "source": [
    "def make_meshgrid(x, y, h=0.2):\n",
    "    x_min, x_max = x.min() - 1, x.max() + 1\n",
    "    y_min, y_max = y.min() - 1, y.max() + 1\n",
    "    xx, yy =np.meshgrid(np.arange(x_min, x_max, h), np.arange(y_min, y_max, h))\n",
    "    \n",
    "    return xx, yy\n",
    "def plot_contours(ax, clf, xx, yy, **params):\n",
    "    Z = clf.predict(np.c_[xx.ravel(), yy.ravel()])\n",
    "    Z = Z.reshape(xx.shape)\n",
    "    out = ax.contourf(xx, yy, Z, **params)\n",
    "    return out"
   ]
  },
  {
   "cell_type": "code",
   "execution_count": 4,
   "metadata": {},
   "outputs": [
    {
     "data": {
      "text/plain": [
       "Text(0, 0.5, 'sepal_width')"
      ]
     },
     "execution_count": 4,
     "metadata": {},
     "output_type": "execute_result"
    },
    {
     "data": {
      "image/png": "[encoded data removed]",
      "text/plain": [
       "<Figure size 432x288 with 1 Axes>"
      ]
     },
     "metadata": {
      "needs_background": "light"
     },
     "output_type": "display_data"
    }
   ],
   "source": [
    "iris = datasets.load_iris()\n",
    "\n",
    "X = iris.data[:, :2]\n",
    "y = iris.target\n",
    "plt.scatter (X[:, 0], X[:, 1], c = iris.target)\n",
    "plt.title(\"Iris data\")\n",
    "plt.xlabel(\"sepal_length\")\n",
    "plt.ylabel(\"sepal_width\")"
   ]
  },
  {
   "cell_type": "code",
   "execution_count": 19,
   "metadata": {},
   "outputs": [
    {
     "name": "stdout",
     "output_type": "stream",
     "text": [
      "The best parameters are {'gamma': 0.01, 'C': 40.0} with a score of 0.98\n",
      "The best parameters are {'C': 1.0} with a score of 0.98\n",
      "The best parameters are {'gamma': 0.1, 'C': 3.0} with a score of 0.98\n",
      "Linear SVM value of C:1.0, Test Score: 0.786667\n",
      "\n",
      "Linear SVM value of C:3.0, Test Score: 0.773333\n",
      "\n",
      "Linear SVM value of C:5.0, Test Score: 0.786667\n",
      "\n",
      "Linear SVM value of C:10.0, Test Score: 0.786667\n",
      "\n",
      "Linear SVM value of C:40.0, Test Score: 0.786667\n",
      "\n",
      "Linear SVM value of C:60.0, Test Score: 0.786667\n",
      "\n",
      "Linear SVM value of C:80.0, Test Score: 0.786667\n",
      "\n",
      "Linear SVM value of C:100.0, Test Score: 0.786667\n",
      "\n",
      "C:  5.0\n"
     ]
    }
   ],
   "source": [
    "iris = datasets.load_iris()\n",
    "\n",
    "X = iris.data\n",
    "y = iris.target\n",
    "\n",
    "C_range =  [1.,3.,5.,10.,40.,60.,80.,100.]\n",
    "# C_range = np.arange(1.,100.)\n",
    "gamma_range = np.logspace(-9, 3, 13)\n",
    "# gamma_range = np.arange(1.,100.)\n",
    "param_grid = dict( gamma=gamma_range, C=C_range)\n",
    "param_grid_ = dict(C=C_range)\n",
    "\n",
    "degree_range = np.arange(1,10)\n",
    "cv = StratifiedShuffleSplit(n_splits=5, test_size=0.2, random_state=42)\n",
    "grid = GridSearchCV(SVC(), param_grid=param_grid, cv=cv)\n",
    "grid_ = GridSearchCV(SVC(kernel=\"linear\"),param_grid=param_grid_, cv=cv)\n",
    "grid_a = GridSearchCV(SVC(kernel=\"poly\"),param_grid=param_grid, cv=cv)\n",
    "\n",
    "grid_a.fit(X, y)\n",
    "grid_.fit(X, y)\n",
    "grid.fit(X, y)\n",
    "\n",
    "print(\"The best parameters are %s with a score of %0.2f\" % (grid_a.best_params_, grid_a.best_score_))\n",
    "print(\"The best parameters are %s with a score of %0.2f\" % (grid_.best_params_, grid_.best_score_))\n",
    "print(\"The best parameters are %s with a score of %0.2f\"\n",
    "      % (grid.best_params_, grid.best_score_))\n",
    "\n",
    "C = []\n",
    "gamma = []\n",
    "\n",
    "X = X[:, :2]\n",
    "X_train, X_test, y_train, y_test = train_test_split(X, y, test_size=.5, random_state=42)\n",
    "\n",
    "for this_C in C_range:\n",
    "    clf = SVC(kernel='linear',C=this_C).fit(X_train,y_train)\n",
    "    scoretrain = clf.score(X_train, y_train)\n",
    "    scoretest = clf.score(X_test, y_test)\n",
    "    C.append(scoretest)\n",
    "    print(\"Linear SVM value of C:{}, Test Score: {:2f}\\n\".format(this_C,scoretrain,scoretest))\n",
    "\n",
    "C = C_range[C.index(max(C))]\n",
    "print(\"C: \",C)"
   ]
  },
  {
   "cell_type": "code",
   "execution_count": null,
   "metadata": {},
   "outputs": [],
   "source": [
    "C = []\n",
    "gamma = []\n",
    "for this_gamma in [.01,.5,.10,.25,.50,1]:\n",
    "    for this_C in [1,5,7,10,15,25,50]:\n",
    "        clf3 = SVC(kernel='rbf',C=this_C,gamma=this_gamma).fit(X_train,y_train)\n",
    "        clf3train = clf3.score(X_train,y_train)\n",
    "        clf3test  = clf3.score(X_test,y_test)\n",
    "        C.append(scoretest)\n",
    "        gamma.append(scoretest)\n",
    "        print(\"SVM for Non Linear \\n Gamma: {} C:{} Training Score : {:2f} Test Score : {:2f}\\n\".format(this_gamma,this_C,clf3train,clf3test))\n",
    "        \n",
    "C = [1,5,7,10,15,25,50][C.index(max(C))]\n",
    "gamma = [.01,.5,.10,.25,.50,1][gamma.index(max(gamma))]\n",
    "print(\"C: {} gamma: {}\".format(C, gamma))"
   ]
  },
  {
   "cell_type": "code",
   "execution_count": null,
   "metadata": {},
   "outputs": [],
   "source": [
    "C = []\n",
    "gamma = []\n",
    "for this_gamma in [.01,.5,.10,.25,.50,1]:\n",
    "    for this_C in [1,5,7,10,15,25,50]:\n",
    "        clf3 = SVC(kernel='poly',C=this_C,gamma=this_gamma,degree=3).fit(X_train,y_train)\n",
    "        clf3train = clf3.score(X_train,y_train)\n",
    "        clf3test  = clf3.score(X_test,y_test)\n",
    "        C.append(scoretest)\n",
    "        gamma.append(scoretest)\n",
    "        print(\"SVM for Non Linear \\n Gamma: {} C:{} Training Score : {:2f} Test Score : {:2f}\\n\".format(this_gamma,this_C,clf3train,clf3test))\n",
    "        \n",
    "C = [1,5,7,10,15,25,50][C.index(max(C))]\n",
    "gamma = [.01,.5,.10,.25,.50,1][gamma.index(max(gamma))]\n",
    "print(\"C: {} gamma: {}\".format(C, gamma))"
   ]
  },
  {
   "cell_type": "code",
   "execution_count": null,
   "metadata": {},
   "outputs": [],
   "source": [
    "models = (svm.SVC(kernel='linear', C=C),\n",
    "         svm.LinearSVC(C=C, max_iter=10000),\n",
    "         svm.SVC(kernel='rbf', gamma=0.7, C=C),\n",
    "         svm.SVC(kernel='poly',degree=3,gamma='auto',C=C))\n",
    "models = (clf.fit(X, y) for clf in models)\n",
    "\n",
    "titles = ('SVC with linear kernel',\n",
    "          'LinearSVC (linear kernel)',\n",
    "          'SVC with RBF kernel',\n",
    "          'SVC with polynomial (degree 3) kernel')\n",
    "\n",
    "fig, sub = plt.subplots(2, 2)\n",
    "plt.subplots_adjust(wspace=0.4, hspace=0.4)\n",
    "\n",
    "X0, X1 = X[:, 0], X[:, 1]\n",
    "xx, yy = make_meshgrid(X0, X1)\n",
    "\n",
    "for clf, title, ax in zip(models, titles, sub.flatten()):\n",
    "    plot_contours(ax, clf, xx, yy, cmap=plt.cm.coolwarm, alpha=0.8)\n",
    "    ax.scatter(X0, X1, c=y, cmap=plt.cm.coolwarm, s=20, edgecolors='k')\n",
    "    ax.set_xlim(xx.min(), xx.max())\n",
    "    ax.set_ylim(yy.min(), yy.max())\n",
    "    ax.set_xlabel('Sepal length')\n",
    "    ax.set_ylabel('Sepal width')\n",
    "    ax.set_xticks(())\n",
    "    ax.set_yticks(())\n",
    "    ax.set_title(title)\n",
    "\n",
    "plt.show()"
   ]
  },
  {
   "cell_type": "code",
   "execution_count": 13,
   "metadata": {},
   "outputs": [
    {
     "data": {
      "text/plain": [
       "array([ 1.,  2.,  3.,  4.,  5.,  6.,  7.,  8.,  9., 10., 11., 12., 13.,\n",
       "       14., 15., 16., 17., 18., 19., 20., 21., 22., 23., 24., 25., 26.,\n",
       "       27., 28., 29., 30., 31., 32., 33., 34., 35., 36., 37., 38., 39.,\n",
       "       40., 41., 42., 43., 44., 45., 46., 47., 48., 49., 50., 51., 52.,\n",
       "       53., 54., 55., 56., 57., 58., 59., 60., 61., 62., 63., 64., 65.,\n",
       "       66., 67., 68., 69., 70., 71., 72., 73., 74., 75., 76., 77., 78.,\n",
       "       79., 80., 81., 82., 83., 84., 85., 86., 87., 88., 89., 90., 91.,\n",
       "       92., 93., 94., 95., 96., 97., 98., 99.])"
      ]
     },
     "execution_count": 13,
     "metadata": {},
     "output_type": "execute_result"
    }
   ],
   "source": [
    "np.arange(1.,100.)"
   ]
  },
  {
   "cell_type": "code",
   "execution_count": 26,
   "metadata": {},
   "outputs": [
    {
     "data": {
      "text/plain": [
       "array([1.e-09, 1.e-08, 1.e-07, 1.e-06, 1.e-05, 1.e-04, 1.e-03, 1.e-02,\n",
       "       1.e-01, 1.e+00, 1.e+01])"
      ]
     },
     "execution_count": 26,
     "metadata": {},
     "output_type": "execute_result"
    }
   ],
   "source": [
    "np.logspace(-9, 1, 11)"
   ]
  },
  {
   "cell_type": "code",
   "execution_count": null,
   "metadata": {},
   "outputs": [],
   "source": []
  }
 ],
 "metadata": {
  "kernelspec": {
   "display_name": "Python 3.5.6 64-bit ('timeSeries35': conda)",
   "language": "python",
   "name": "python35664bittimeseries35condaf09b3f7070e847a1b49e62959b05bf5a"
  },
  "language_info": {
   "codemirror_mode": {
    "name": "ipython",
    "version": 3
   },
   "file_extension": ".py",
   "mimetype": "text/x-python",
   "name": "python",
   "nbconvert_exporter": "python",
   "pygments_lexer": "ipython3",
   "version": "3.5.6"
  }
 },
 "nbformat": 4,
 "nbformat_minor": 4
}
