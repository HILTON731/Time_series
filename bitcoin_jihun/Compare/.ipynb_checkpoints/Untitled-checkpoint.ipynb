{
 "cells": [
  {
   "cell_type": "code",
   "execution_count": null,
   "metadata": {},
   "outputs": [],
   "source": [
    "import scipy.io\n",
    "import pandas as pd\n",
    "import numpy as np\n",
    "import csv\n",
    "import matplotlib.pyplot as plt\n",
    "from sklearn import svm, datasets\n",
    "from sklearn.model_selection import train_test_split\n",
    "from sklearn.preprocessing import StandardScaler\n",
    "from sklearn.datasets import load_iris\n",
    "from sklearn.model_selection import StratifiedShuffleSplit, GridSearchCV\n",
    "from sklearn.svm import SVC\n",
    "\n",
    "data = scipy.io.loadmat('satellite.mat')\n",
    "df = {k:v for k, v in data.items() if k[0] != '_'}\n",
    "\n",
    "X = np.array(df['X'])\n",
    "y = np.array(df['y']).reshape(-1,1)\n",
    "print(X)\n",
    "print(y)\n",
    "\n",
    "C_range =  [1.,3.,5.,10.,40.,60.,80.,100.]\n",
    "gamma_range = np.logspace(-9, 3, 13)\n",
    "param_grid = dict( gamma=gamma_range, C=C_range)\n",
    "param_grid_ = dict(C=C_range)\n",
    "\n",
    "# degree_range = np.arange(1,10)\n",
    "# cv = StratifiedShuffleSplit(n_splits=5, test_size=0.2, random_state=42)\n",
    "# grid = GridSearchCV(SVC(), param_grid=param_grid, cv=cv)\n",
    "# grid_ = GridSearchCV(SVC(kernel=\"linear\"),param_grid=param_grid_, cv=cv)\n",
    "\n",
    "# grid_.fit(X, y)\n",
    "# grid.fit(X, y)\n",
    "\n",
    "# print(\"The best parameters are %s with a score of %0.2f\" % (grid_.best_params_, grid_.best_score_))\n",
    "# print(\"The best parameters are %s with a score of %0.2f\"\n",
    "#       % (grid.best_params_, grid.best_score_))\n",
    "\n",
    "C = []\n",
    "gamma = []\n",
    "\n",
    "X_train, X_test, y_train, y_test = train_test_split(X, y, test_size=.2, random_state=42)\n",
    "\n",
    "for this_C in C_range:\n",
    "    clf = SVC(kernel='linear',C=this_C).fit(X_train,y_train)\n",
    "    scoretrain = clf.score(X_train, y_train)\n",
    "    scoretest = clf.score(X_test, y_test)\n",
    "    C.append(scoretest)\n",
    "    print(\"Linear SVM value of C:{}, Test Score: {:2f}\\n\".format(this_C,scoretrain,scoretest))\n",
    "\n",
    "C = C_range[C.index(max(C))]\n",
    "print(\"C: \",C)"
   ]
  },
  {
   "cell_type": "code",
   "execution_count": null,
   "metadata": {},
   "outputs": [],
   "source": []
  }
 ],
 "metadata": {
  "kernelspec": {
   "display_name": "Python 3.5.6 64-bit ('timeSeries35': conda)",
   "language": "python",
   "name": "python35664bittimeseries35condaf09b3f7070e847a1b49e62959b05bf5a"
  },
  "language_info": {
   "codemirror_mode": {
    "name": "ipython",
    "version": 3
   },
   "file_extension": ".py",
   "mimetype": "text/x-python",
   "name": "python",
   "nbconvert_exporter": "python",
   "pygments_lexer": "ipython3",
   "version": "3.5.6"
  }
 },
 "nbformat": 4,
 "nbformat_minor": 4
}
