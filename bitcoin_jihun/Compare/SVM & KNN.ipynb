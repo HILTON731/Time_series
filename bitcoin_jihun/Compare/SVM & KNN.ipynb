{
 "cells": [
  {
   "cell_type": "code",
   "execution_count": 12,
   "metadata": {},
   "outputs": [
    {
     "name": "stdout",
     "output_type": "stream",
     "text": [
      "X: (6435, 36)\n",
      "y: (6435,)\n"
     ]
    }
   ],
   "source": [
    "import scipy.io\n",
    "import pandas as pd\n",
    "import numpy as np\n",
    "import csv\n",
    "import matplotlib.pyplot as plt\n",
    "from sklearn import svm, datasets\n",
    "from sklearn.model_selection import train_test_split\n",
    "from sklearn.preprocessing import StandardScaler\n",
    "from sklearn.datasets import load_iris\n",
    "from sklearn.model_selection import StratifiedShuffleSplit, GridSearchCV\n",
    "from sklearn.svm import SVC\n",
    "from sklearn.pipeline import Pipeline\n",
    "\n",
    "data = scipy.io.loadmat('satellite.mat')\n",
    "df = {k:v for k, v in data.items() if k[0] != '_'}\n",
    "\n",
    "X = np.array(df['X'])\n",
    "y = np.array(df['y']).reshape(-1)\n",
    "\n",
    "print(\"X:\",X.shape)\n",
    "print(\"y:\",y.shape)"
   ]
  },
  {
   "cell_type": "code",
   "execution_count": 13,
   "metadata": {},
   "outputs": [
    {
     "name": "stdout",
     "output_type": "stream",
     "text": [
      "[ 92 115 120  94  84 102 106  79  84 102 102  83 101 126 133 103  92 112\n",
      " 118  85  84 103 104  81 102 126 134 104  88 121 128 100  84 107 113  87]\n",
      "[0 0 0 ... 1 1 1]\n"
     ]
    }
   ],
   "source": [
    "print(X[0])\n",
    "print(y)"
   ]
  },
  {
   "cell_type": "code",
   "execution_count": 14,
   "metadata": {},
   "outputs": [
    {
     "name": "stdout",
     "output_type": "stream",
     "text": [
      "Counter({0: 4399, 1: 2036})\n"
     ]
    }
   ],
   "source": [
    "from collections import Counter\n",
    "count = Counter(y)\n",
    "print(count)"
   ]
  },
  {
   "cell_type": "code",
   "execution_count": 15,
   "metadata": {},
   "outputs": [
    {
     "data": {
      "text/plain": [
       "dict_keys(['__version__', '__header__', '__globals__', 'X', 'y'])"
      ]
     },
     "execution_count": 15,
     "metadata": {},
     "output_type": "execute_result"
    }
   ],
   "source": [
    "data.keys()"
   ]
  },
  {
   "cell_type": "code",
   "execution_count": 16,
   "metadata": {},
   "outputs": [
    {
     "data": {
      "text/plain": [
       "dict_items([('__version__', '1.0'), ('__header__', b'MATLAB 5.0 MAT-file, Platform: MACI64, Created on: Tue Apr 26 19:11:01 2016'), ('__globals__', []), ('X', array([[ 92, 115, 120, ..., 107, 113,  87],\n",
       "       [ 84, 102, 106, ...,  99, 104,  79],\n",
       "       [ 84, 102, 102, ...,  99, 104,  79],\n",
       "       ...,\n",
       "       [ 56,  68,  91, ...,  83,  92,  74],\n",
       "       [ 56,  68,  87, ...,  83,  92,  70],\n",
       "       [ 60,  71,  91, ...,  79, 108,  92]], dtype=uint8)), ('y', array([[0],\n",
       "       [0],\n",
       "       [0],\n",
       "       ...,\n",
       "       [1],\n",
       "       [1],\n",
       "       [1]], dtype=uint8))])"
      ]
     },
     "execution_count": 16,
     "metadata": {},
     "output_type": "execute_result"
    }
   ],
   "source": [
    "data.items()"
   ]
  },
  {
   "cell_type": "code",
   "execution_count": 51,
   "metadata": {},
   "outputs": [
    {
     "name": "stdout",
     "output_type": "stream",
     "text": [
      "SVM for Non Linear\n",
      "Training Score : 0.952797 Test Score : 0.922300\n",
      "\n",
      "0.8309017999999924\n"
     ]
    }
   ],
   "source": [
    "import timeit\n",
    "X_train, X_test, y_train, y_test = train_test_split(X, y, test_size=.2, random_state=42)\n",
    "\n",
    "clf = SVC(kernel='rbf', C=86, gamma=\"scale\")\n",
    "start = timeit.default_timer()\n",
    "clf.fit(X_train,y_train)\n",
    "scoretrain = clf.score(X_train,y_train)\n",
    "scoretest  = clf.score(X_test,y_test)\n",
    "stop = timeit.default_timer()\n",
    "# C.append(scoretest)\n",
    "# gamma.append(scoretest)\n",
    "print(\"SVM for Non Linear\\ngamma: {} Training Score : {:2f} Test Score : {:2f}\\n\".format(clf._gamma,scoretrain,scoretest))\n",
    "print(stop - start)"
   ]
  },
  {
   "cell_type": "code",
   "execution_count": 25,
   "metadata": {},
   "outputs": [
    {
     "name": "stdout",
     "output_type": "stream",
     "text": [
      "[[ 68  69  74  57  64  66  71  54  64  69  71  57  64  75  75  59  68  71\n",
      "   75  59  68  71  75  59  67  68  74  58  63  68  67  58  67  72  70  62]\n",
      " [ 71 112 122  96  71 112 122  96  71 112 122  96  71 111 123 100  71 111\n",
      "  118 100  71 111 123 100  66 109 122  96  66 113 122  96  70 113 117 100]\n",
      " [ 82  96 100  81  82 100 104  78  82  96 104  81  79  99 105  83  83  95\n",
      "  105  83  83  95 101  79  85 102 101  83  82 102 105  83  82 102 114  87]\n",
      " [ 56  68  83  74  64  83 100  85  64  95 104  85  51  68  81  71  59  72\n",
      "   85  75  59  79  89  79  49  67  80  70  52  71  80  74  52  71  84  70]\n",
      " [ 55  51  77  67  55  54  77  62  59  48  74  54  56  49  69  55  56  53\n",
      "   73  63  59  53  84  66  56  48  68  53  56  51  68  60  56  51  75  68]\n",
      " [ 49  32 127 133  46  34 127 129  49  32 127 133  42  32 124 135  46  32\n",
      "  119 135  46  32 119 131  44  34 124 136  44  34 124 136  44  34 119 133]\n",
      " [ 85  97 101  80  82  97 101  76  82  97 101  80  88 102 102  79  80  98\n",
      "   98  76  80  98 102  79  80  91  96  78  80  95 100  78  80  95 100  78]\n",
      " [ 96 117 119  94  96 117 119  94  96 112 119  94  97 120 124  97  97 115\n",
      "  119  94  97 115 119  97 101 120 120  94 101 115 120  94  97 115 125  94]\n",
      " [ 60  61  75  70  60  57  75  67  64  64  83  67  59  64  77  71  55  64\n",
      "   81  67  67  64  85  67  74  83  92  74  63  67  80  70  59  63  73  66]\n",
      " [ 96 112 114  94  96 117 119  94  92 117 114  90  93 111 114  90  93 111\n",
      "  114  87  89 106 110  87  84 106 111  83  80 106 106  79  80 106 102  79]]\n"
     ]
    }
   ],
   "source": [
    "print(X_test[:10])"
   ]
  },
  {
   "cell_type": "code",
   "execution_count": 26,
   "metadata": {},
   "outputs": [
    {
     "name": "stdout",
     "output_type": "stream",
     "text": [
      "[0 0 0 0 1 1 0 0 1 0]\n"
     ]
    }
   ],
   "source": [
    "print(y_test[:10])"
   ]
  },
  {
   "cell_type": "code",
   "execution_count": 43,
   "metadata": {},
   "outputs": [
    {
     "name": "stdout",
     "output_type": "stream",
     "text": [
      "[0 0 0 0 1 1 0 0 1 0]\n"
     ]
    }
   ],
   "source": [
    "print(clf.predict(X_test)[:10])"
   ]
  },
  {
   "cell_type": "code",
   "execution_count": 34,
   "metadata": {},
   "outputs": [
    {
     "name": "stdout",
     "output_type": "stream",
     "text": [
      "TrainScore: 1.0, TestScore: 0.9230769230769231\n",
      "Time: 0.7141882999999893\n"
     ]
    }
   ],
   "source": [
    "import numpy as np\n",
    "import pandas as pd\n",
    "from scipy.io import loadmat\n",
    "from sklearn import neighbors\n",
    "from sklearn.neighbors import KNeighborsClassifier\n",
    "from sklearn.metrics import accuracy_score\n",
    "from sklearn.model_selection import KFold, cross_val_score\n",
    "from sklearn.model_selection import train_test_split\n",
    "import matplotlib.pyplot as plt\n",
    "from matplotlib.colors import ListedColormap\n",
    "from sklearn.preprocessing import MinMaxScaler\n",
    "import timeit\n",
    "\n",
    "clf = neighbors.KNeighborsClassifier(3, weights='distance',algorithm=\"brute\")\n",
    "start = timeit.default_timer()\n",
    "clf.fit(X_train, y_train)\n",
    "T_score = clf.score(X_train, y_train)\n",
    "score = clf.score(X_test, y_test)\n",
    "stop = timeit.default_timer()\n",
    "print(\"TrainScore: {}, TestScore: {}\".format(T_score, score))\n",
    "print(\"Time: {}\".format(stop-start))"
   ]
  },
  {
   "cell_type": "code",
   "execution_count": null,
   "metadata": {},
   "outputs": [],
   "source": []
  }
 ],
 "metadata": {
  "kernelspec": {
   "display_name": "Python 3.5.6 64-bit ('timeSeries35': conda)",
   "language": "python",
   "name": "python35664bittimeseries35condaf09b3f7070e847a1b49e62959b05bf5a"
  },
  "language_info": {
   "codemirror_mode": {
    "name": "ipython",
    "version": 3
   },
   "file_extension": ".py",
   "mimetype": "text/x-python",
   "name": "python",
   "nbconvert_exporter": "python",
   "pygments_lexer": "ipython3",
   "version": "3.5.6"
  }
 },
 "nbformat": 4,
 "nbformat_minor": 4
}
