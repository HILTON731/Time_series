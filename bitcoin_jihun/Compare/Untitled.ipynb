{
 "cells": [
  {
   "cell_type": "code",
   "execution_count": 5,
   "metadata": {},
   "outputs": [],
   "source": [
    "import numpy as np\n",
    "import pandas as pd\n",
    "import re\n",
    "import seaborn as sns\n",
    "import matplotlib.pyplot as plt\n",
    "%matplotlib inline\n",
    "\n",
    "from sklearn import tree\n",
    "from sklearn.metrics import accuracy_score\n",
    "from sklearn.model_selection import KFold\n",
    "from sklearn.model_selection import cross_val_score\n",
    "from IPython.display import Image as PImage\n",
    "from subprocess import check_call\n",
    "from PIL import Image, ImageDraw, ImageFont\n",
    "\n",
    "from scipy.io import loadmat"
   ]
  },
  {
   "cell_type": "code",
   "execution_count": 6,
   "metadata": {},
   "outputs": [],
   "source": [
    "data = loadmat(\"Satellite.mat\")"
   ]
  },
  {
   "cell_type": "code",
   "execution_count": 7,
   "metadata": {},
   "outputs": [
    {
     "name": "stdout",
     "output_type": "stream",
     "text": [
      "{'__header__': b'MATLAB 5.0 MAT-file, Platform: MACI64, Created on: Tue Apr 26 19:11:01 2016', '__version__': '1.0', '__globals__': [], 'X': array([[ 92, 115, 120, ..., 107, 113,  87],\n",
      "       [ 84, 102, 106, ...,  99, 104,  79],\n",
      "       [ 84, 102, 102, ...,  99, 104,  79],\n",
      "       ...,\n",
      "       [ 56,  68,  91, ...,  83,  92,  74],\n",
      "       [ 56,  68,  87, ...,  83,  92,  70],\n",
      "       [ 60,  71,  91, ...,  79, 108,  92]], dtype=uint8), 'y': array([[0],\n",
      "       [0],\n",
      "       [0],\n",
      "       ...,\n",
      "       [1],\n",
      "       [1],\n",
      "       [1]], dtype=uint8)}\n"
     ]
    }
   ],
   "source": [
    "print(data)"
   ]
  },
  {
   "cell_type": "code",
   "execution_count": 8,
   "metadata": {},
   "outputs": [],
   "source": [
    "data = {k: v for k, v in data.items() if k[0] != '_'}"
   ]
  },
  {
   "cell_type": "code",
   "execution_count": 9,
   "metadata": {},
   "outputs": [
    {
     "name": "stdout",
     "output_type": "stream",
     "text": [
      "{'X': array([[ 92, 115, 120, ..., 107, 113,  87],\n",
      "       [ 84, 102, 106, ...,  99, 104,  79],\n",
      "       [ 84, 102, 102, ...,  99, 104,  79],\n",
      "       ...,\n",
      "       [ 56,  68,  91, ...,  83,  92,  74],\n",
      "       [ 56,  68,  87, ...,  83,  92,  70],\n",
      "       [ 60,  71,  91, ...,  79, 108,  92]], dtype=uint8), 'y': array([[0],\n",
      "       [0],\n",
      "       [0],\n",
      "       ...,\n",
      "       [1],\n",
      "       [1],\n",
      "       [1]], dtype=uint8)}\n"
     ]
    }
   ],
   "source": [
    "print(data)"
   ]
  },
  {
   "cell_type": "code",
   "execution_count": 10,
   "metadata": {},
   "outputs": [
    {
     "name": "stdout",
     "output_type": "stream",
     "text": [
      "      0    1    2   3   4    5    6   7   8    9   ...   27  28   29   30  \\\n",
      "0     92  115  120  94  84  102  106  79  84  102  ...  104  88  121  128   \n",
      "1     84  102  106  79  84  102  102  83  80  102  ...  100  84  107  113   \n",
      "2     84  102  102  83  80  102  102  79  84   94  ...   87  84   99  104   \n",
      "3     80  102  102  79  84   94  102  79  80   94  ...   79  84   99  104   \n",
      "4     84   94  102  79  80   94   98  76  80  102  ...   79  84  103  104   \n",
      "...   ..  ...  ...  ..  ..  ...  ...  ..  ..  ...  ...  ...  ..  ...  ...   \n",
      "6430  60   83   96  85  64   87  100  88  64   83  ...   92  66   87  108   \n",
      "6431  64   79  100  85  56   71   96  85  56   68  ...   85  66   83  100   \n",
      "6432  56   68   91  81  56   64   91  81  53   64  ...   81  59   87   96   \n",
      "6433  56   68   87  74  60   71   91  81  60   64  ...   74  59   83   92   \n",
      "6434  60   71   91  81  60   64  104  99  56   64  ...   74  59   83   92   \n",
      "\n",
      "       31  32   33   34  35  36  \n",
      "0     100  84  107  113  87   0  \n",
      "1      87  84   99  104  79   0  \n",
      "2      79  84   99  104  79   0  \n",
      "3      79  84  103  104  79   0  \n",
      "4      79  79  107  109  87   0  \n",
      "...   ...  ..  ...  ...  ..  ..  \n",
      "6430   89  63   83  104  85   0  \n",
      "6431   85  63   83  100  81   0  \n",
      "6432   81  63   83   92  74   1  \n",
      "6433   74  59   83   92  70   1  \n",
      "6434   70  63   79  108  92   1  \n",
      "\n",
      "[6435 rows x 37 columns]\n"
     ]
    }
   ],
   "source": [
    "df = pd.DataFrame(np.concatenate((np.array(data['X']), np.array(data['y'])), axis=1))\n",
    "X = np.array(data['X'])\n",
    "y = np.array(data['y']).reshape(-1)\n",
    "# print(X)\n",
    "# print(y)\n",
    "print(df)"
   ]
  },
  {
   "cell_type": "code",
   "execution_count": 11,
   "metadata": {},
   "outputs": [
    {
     "name": "stdout",
     "output_type": "stream",
     "text": [
      "Accuracy: 0.846930846930847\n",
      "[0 0 0 1 0 0 0 0 1 0 0 0 0 0 0 0 0 0 0 0 0 0 0 0 0 1 0 0 0 0]\n",
      "[0 0 0 1 1 1 0 0 1 0 0 0 0 0 1 0 1 0 0 0 0 0 0 0 0 1 0 0 0 0]\n"
     ]
    }
   ],
   "source": [
    "from sklearn.metrics import accuracy_score\n",
    "from sklearn.model_selection import train_test_split\n",
    "X_train, X_test, y_train, y_test = train_test_split(X, y, test_size=0.2, random_state=0)\n",
    "\n",
    "clf = tree.DecisionTreeClassifier(criterion='gini', max_depth=3, random_state=0)\n",
    "clf.fit(X_train, y_train)\n",
    "\n",
    "predict = clf.predict(X_test)\n",
    "print('Accuracy: {}'.format(accuracy_score(y_test, predict)))\n",
    "print(predict[:30])\n",
    "print(y_test[:30])"
   ]
  },
  {
   "cell_type": "code",
   "execution_count": 12,
   "metadata": {},
   "outputs": [
    {
     "name": "stdout",
     "output_type": "stream",
     "text": [
      "37\n"
     ]
    }
   ],
   "source": [
    "print(len(list(df)))"
   ]
  },
  {
   "cell_type": "code",
   "execution_count": 13,
   "metadata": {},
   "outputs": [
    {
     "name": "stdout",
     "output_type": "stream",
     "text": [
      " Max Depth  Average Accuracy\n",
      "         1          0.845701\n",
      "         2          0.845701\n",
      "         3          0.839178\n",
      "         4          0.842751\n",
      "         5          0.846010\n",
      "         6          0.859224\n",
      "         7          0.835907\n",
      "         8          0.857192\n",
      "         9          0.859219\n",
      "        10          0.857661\n",
      "        11          0.865584\n",
      "        12          0.859834\n",
      "        13          0.860614\n",
      "        14          0.854708\n",
      "        15          0.860772\n",
      "        16          0.858749\n",
      "        17          0.862947\n",
      "        18          0.864032\n",
      "        19          0.863723\n",
      "        20          0.867297\n",
      "        21          0.864807\n",
      "        22          0.860613\n",
      "        23          0.864965\n",
      "        24          0.864964\n",
      "        25          0.864342\n",
      "        26          0.862788\n",
      "        27          0.864031\n",
      "        28          0.864031\n",
      "        29          0.864187\n",
      "        30          0.863876\n",
      "        31          0.863876\n",
      "        32          0.863876\n",
      "        33          0.863876\n",
      "        34          0.863876\n",
      "        35          0.863876\n",
      "        36          0.863876\n",
      "[20, 0.8672971223786018]\n"
     ]
    }
   ],
   "source": [
    "cv = KFold(n_splits=10)\n",
    "accuracies = list()\n",
    "max_attributes = len(list(df)) - 1\n",
    "depth_range = range(1, max_attributes + 1)\n",
    "score = [0, 0]\n",
    "\n",
    "for depth in depth_range:\n",
    "    fold_accuracy = []\n",
    "    tree_model = tree.DecisionTreeClassifier(max_depth=depth, criterion='entropy', random_state=0)\n",
    "    for train_fold, valid_fold in cv.split(X):\n",
    "        f_train = df.loc[train_fold]\n",
    "        f_valid = df.loc[valid_fold]\n",
    "        \n",
    "        model = tree_model.fit(X=f_train.drop([36],axis=1), y=f_train[36])\n",
    "        valid_acc = model.score(X = f_valid.drop([36],axis=1), y = f_valid[36])\n",
    "        fold_accuracy.append(valid_acc)\n",
    "        \n",
    "        \n",
    "    avg = sum(fold_accuracy)/len(fold_accuracy)\n",
    "    accuracies.append(avg)\n",
    "    if score[-1] < avg:\n",
    "            score = [depth, avg]\n",
    "    \n",
    "result = pd.DataFrame({\"Max Depth\": depth_range, \"Average Accuracy\": accuracies})\n",
    "result = result[[\"Max Depth\", \"Average Accuracy\"]]\n",
    "print(result.to_string(index=False))\n",
    "print(score)"
   ]
  },
  {
   "cell_type": "code",
   "execution_count": 14,
   "metadata": {},
   "outputs": [
    {
     "data": {
      "text/plain": [
       "[Text(167.4, 190.26, 'X[17] <= 65.0\\ngini = 0.429\\nsamples = 5148\\nvalue = [3546, 1602]'),\n",
       " Text(83.7, 135.9, 'X[17] <= 61.5\\ngini = 0.085\\nsamples = 918\\nvalue = [41, 877]'),\n",
       " Text(41.85, 81.53999999999999, 'X[21] <= 60.5\\ngini = 0.017\\nsamples = 829\\nvalue = [7, 822]'),\n",
       " Text(20.925, 27.180000000000007, 'gini = 0.0\\nsamples = 748\\nvalue = [0, 748]'),\n",
       " Text(62.775000000000006, 27.180000000000007, 'gini = 0.158\\nsamples = 81\\nvalue = [7, 74]'),\n",
       " Text(125.55000000000001, 81.53999999999999, 'X[15] <= 64.5\\ngini = 0.472\\nsamples = 89\\nvalue = [34, 55]'),\n",
       " Text(104.625, 27.180000000000007, 'gini = 0.252\\nsamples = 27\\nvalue = [23, 4]'),\n",
       " Text(146.475, 27.180000000000007, 'gini = 0.292\\nsamples = 62\\nvalue = [11, 51]'),\n",
       " Text(251.10000000000002, 135.9, 'X[17] <= 96.5\\ngini = 0.284\\nsamples = 4230\\nvalue = [3505, 725]'),\n",
       " Text(209.25, 81.53999999999999, 'X[12] <= 71.5\\ngini = 0.383\\nsamples = 2446\\nvalue = [1815, 631]'),\n",
       " Text(188.32500000000002, 27.180000000000007, 'gini = 0.269\\nsamples = 1713\\nvalue = [1439, 274]'),\n",
       " Text(230.175, 27.180000000000007, 'gini = 0.5\\nsamples = 733\\nvalue = [376, 357]'),\n",
       " Text(292.95, 81.53999999999999, 'X[19] <= 85.5\\ngini = 0.1\\nsamples = 1784\\nvalue = [1690, 94]'),\n",
       " Text(272.02500000000003, 27.180000000000007, 'gini = 0.266\\nsamples = 417\\nvalue = [351, 66]'),\n",
       " Text(313.875, 27.180000000000007, 'gini = 0.04\\nsamples = 1367\\nvalue = [1339, 28]')]"
      ]
     },
     "execution_count": 14,
     "metadata": {},
     "output_type": "execute_result"
    },
    {
     "data": {
      "image/png": "[encoded data removed]",
      "text/plain": [
       "<Figure size 432x288 with 1 Axes>"
      ]
     },
     "metadata": {
      "needs_background": "light"
     },
     "output_type": "display_data"
    }
   ],
   "source": [
    "from sklearn import tree\n",
    "\n",
    "decision_tree = tree.DecisionTreeClassifier(random_state=0, max_depth=20) # 'gini' with max_depth 3\n",
    "decision_tree.fit(X_train, y_train)\n",
    "\n",
    "tree.plot_tree(clf)\n",
    "# # Export our trained model as a .dot file\n",
    "# with open(\"tree1.dot\", 'w') as f:\n",
    "#      f = tree.export_graphviz(decision_tree,\n",
    "#                               out_file=f,\n",
    "#                               max_depth = 20,\n",
    "#                               impurity = True,\n",
    "#                               feature_names = list(df.drop([36], axis=1)),\n",
    "#                               class_names = ['outlier', 'inlier'],\n",
    "#                               rounded = True,\n",
    "#                               filled= True )\n",
    "# from graphviz import Source\n",
    "# path = 'C:/Users/tony9/OneDrive/문서/KNU/DKE_assignment/Time series/time-series-analysis/bitcoin_jihun/Compare/tree1.dot'\n",
    "# s = Source.from_file(path)\n",
    "# s.view()\n",
    "# # #Convert .dot to .png to allow display in web notebook\n",
    "# # check_call(['dot','-Tpng','tree1.dot','-o','tree1.png'])\n",
    "\n",
    "# # # Annotating chart with PIL\n",
    "# # img = Image.open(\"tree1.png\")\n",
    "# # draw = ImageDraw.Draw(img)\n",
    "# # img.save('sample-out.png')\n",
    "# # PImage(\"sample-out.png\")"
   ]
  },
  {
   "cell_type": "code",
   "execution_count": null,
   "metadata": {},
   "outputs": [],
   "source": []
  }
 ],
 "metadata": {
  "kernelspec": {
   "display_name": "Python 3",
   "language": "python",
   "name": "python3"
  },
  "language_info": {
   "codemirror_mode": {
    "name": "ipython",
    "version": 3
   },
   "file_extension": ".py",
   "mimetype": "text/x-python",
   "name": "python",
   "nbconvert_exporter": "python",
   "pygments_lexer": "ipython3",
   "version": "3.7.4"
  }
 },
 "nbformat": 4,
 "nbformat_minor": 4
}
